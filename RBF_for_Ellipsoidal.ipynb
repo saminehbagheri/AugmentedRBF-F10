{
  "nbformat": 4,
  "nbformat_minor": 0,
  "metadata": {
    "colab": {
      "name": "RBF-for-Ellipsoidal.ipynb",
      "version": "0.3.2",
      "provenance": [],
      "collapsed_sections": [],
      "include_colab_link": true
    },
    "kernelspec": {
      "name": "python3",
      "display_name": "Python 3"
    }
  },
  "cells": [
    {
      "cell_type": "markdown",
      "metadata": {
        "id": "view-in-github",
        "colab_type": "text"
      },
      "source": [
        "<a href=\"https://colab.research.google.com/github/saminehbagheri/AugmentedRBF-F10/blob/master/RBF_for_Ellipsoidal.ipynb\" target=\"_parent\"><img src=\"https://colab.research.google.com/assets/colab-badge.svg\" alt=\"Open In Colab\"/></a>"
      ]
    },
    {
      "cell_type": "markdown",
      "metadata": {
        "id": "Q3tjxPyX7kyH",
        "colab_type": "text"
      },
      "source": [
        "# Required Packages\n",
        "\n"
      ]
    },
    {
      "cell_type": "code",
      "metadata": {
        "id": "kkq48r3V0jhk",
        "colab_type": "code",
        "colab": {}
      },
      "source": [
        "import numpy as np\n",
        "from scipy.spatial import distance_matrix\n",
        "import matplotlib.pyplot as plt"
      ],
      "execution_count": 0,
      "outputs": []
    },
    {
      "cell_type": "markdown",
      "metadata": {
        "id": "hGngaIebyoF_",
        "colab_type": "text"
      },
      "source": [
        "#The Helper Functions for BBOB problems\n",
        "\n",
        "**Tosz**: A deterministic noise function that can be added without adding any new local optima"
      ]
    },
    {
      "cell_type": "code",
      "metadata": {
        "id": "QQ-sif4Ky-P4",
        "colab_type": "code",
        "colab": {}
      },
      "source": [
        "def xHat(x):\n",
        "  if x!=0:\n",
        "    y=np.log(np.abs(x))\n",
        "  else:\n",
        "    y=0\n",
        "  return y \n",
        "     \n",
        "\n",
        "\n",
        "def Tosz(x):\n",
        "    if x>0: \n",
        "      c1=10\n",
        "      c2=7.9\n",
        "    else: \n",
        "      c1=5.5\n",
        "      c2=3.1\n",
        "    xhat=xHat(x)\n",
        "    ret=np.sign(x)*np.exp(xhat+0.049*(np.sin(c1*xhat)+np.sin(c2*xhat)))\n",
        "    return ret\n",
        "\n",
        "  \n",
        "  \n",
        "#Gram Schmidt\n",
        "\n",
        "def gramschmidt(A):\n",
        "    \"\"\"\n",
        "    Applies the Gram-Schmidt method to A\n",
        "    and returns Q and R, so Q*R = A.\n",
        "    \"\"\"\n",
        "    R = np.zeros((A.shape[1], A.shape[1]))\n",
        "    Q = np.zeros(A.shape)\n",
        "    for k in range(0, A.shape[1]):\n",
        "        R[k, k] = np.sqrt(np.dot(A[:, k], A[:, k]))\n",
        "        Q[:, k] = A[:, k]/R[k, k]\n",
        "        for j in range(k+1, A.shape[1]):\n",
        "            R[k, j] = np.dot(Q[:, k], A[:, j])\n",
        "            A[:, j] = A[:, j] - R[k, j]*Q[:, k]\n",
        "    return Q, R"
      ],
      "execution_count": 0,
      "outputs": []
    },
    {
      "cell_type": "markdown",
      "metadata": {
        "id": "bGrVi_-x3c9u",
        "colab_type": "text"
      },
      "source": [
        "#F10 Problem"
      ]
    },
    {
      "cell_type": "code",
      "metadata": {
        "id": "aSykah6n3ckg",
        "colab_type": "code",
        "colab": {}
      },
      "source": [
        "def F10(x,dim,xopt,noise=True,LCN=6):\n",
        "    x=x.reshape((dim,1))\n",
        "    z=np.subtract(x,xopt)\n",
        "    np.random.seed(435) \n",
        "    A=np.random.random((dim,dim))\n",
        "    Q, R=gramschmidt(A)\n",
        "    Z=z\n",
        "    if noise:\n",
        "      Z=np.apply_along_axis(Tosz, 1, Z)\n",
        "    coef=np.arange(1,dim+1).reshape(dim,1)  \n",
        "    coef=np.apply_along_axis(lambda x: np.power(10,(LCN*(x-1)/(dim-1))),1,coef)\n",
        "    Z=np.multiply(coef,np.square(Z))\n",
        "    Z=np.matmul(R,Z)\n",
        "    y=np.sum(Z)\n",
        "    return y\n",
        "      \n",
        "      \n",
        "#x=np.array([0,0]).reshape(2,1)\n",
        "#xopt=np.array([0,0]).reshape(2,1)\n",
        "#F10(x,dim=2,xopt=xopt)"
      ],
      "execution_count": 0,
      "outputs": []
    },
    {
      "cell_type": "markdown",
      "metadata": {
        "id": "XCRUIoejKYCA",
        "colab_type": "text"
      },
      "source": [
        "#Augmented RBF Interpolation\n",
        "\n",
        "Augmented RBF is an RBF with a polynomial tail. In this implementation a second order polynomial tail is used"
      ]
    },
    {
      "cell_type": "code",
      "metadata": {
        "id": "8FLzs2E84EX2",
        "colab_type": "code",
        "colab": {}
      },
      "source": [
        "def RBFtrain(X,F):\n",
        "  DIST=distance_matrix(X,X)\n",
        "  ##using cubic rbf kernel\n",
        "  K=np.power(DIST,3)\n",
        "  P=np.append(np.ones(shape=(X.shape[0],1)),X,axis=1)\n",
        "  P=np.append(P,np.power(X,2),axis=1)\n",
        "  PT=P.transpose()\n",
        "  ZEROS=np.zeros(shape = (P.shape[1],P.shape[1]))\n",
        "  PHI=np.append(K,P,axis=1)\n",
        "  PHI=np.append(PHI,np.append(PT,ZEROS,axis=1),axis=0)\n",
        "  zeros=np.zeros(shape=(P.shape[1],1))\n",
        "  F=np.append(F,zeros,axis=0)\n",
        "  rbfcoef=np.matmul(np.linalg.pinv(PHI),F)\n",
        "  CENTERS=X\n",
        "  return rbfcoef, CENTERS\n",
        "  \n",
        "  \n",
        "\n",
        "\n",
        "\n",
        "def RBFpredict(rbfcoef,CENTERS,X):  \n",
        "    DIST=distance_matrix(X,CENTERS)\n",
        "    DIST=np.power(DIST,3)\n",
        "    PHI=np.append(DIST,np.ones(shape=(X.shape[0],1)),axis=1)\n",
        "    PHI=np.append(PHI,X,axis=1)\n",
        "    PHI=np.append(PHI,np.power(X,2),axis=1)\n",
        "    predict=np.matmul(PHI,rbfcoef)\n",
        "    return(predict)\n",
        "\n",
        "\n",
        "#X=np.random.random((10,2))\n",
        "#F=np.random.random((10,1))\n",
        "#rbfcoef, CENTERS=RBFtrain(X,F)\n",
        "#predict=RBFpredict(rbfcoef,CENTERS,X)\n",
        "#print(predict)\n",
        "#print(F)\n"
      ],
      "execution_count": 0,
      "outputs": []
    },
    {
      "cell_type": "markdown",
      "metadata": {
        "id": "uOsVyTQaEsie",
        "colab_type": "text"
      },
      "source": [
        "#The SlicePlot Function\n",
        "\n",
        "This function plots slices (its projection on each dimension) of the F10 (with and without noise) and its model at a given point $x$ \n"
      ]
    },
    {
      "cell_type": "code",
      "metadata": {
        "id": "Ji4LrGoQEvov",
        "colab_type": "code",
        "colab": {}
      },
      "source": [
        "def SlicePlot(x,LCN,noise,CENTERS,rbfcoef,xopt):\n",
        "  samples=200\n",
        "  dim=x.shape[0]\n",
        "  x=np.repeat(x.transpose(),samples,axis=0)\n",
        "  myseq=np.linspace(-5, 5, num=samples)\n",
        "  myseq.reshape((samples,1))\n",
        "  rows=np.ceil(dim/4).astype(int)\n",
        "  fig, axs = plt.subplots(rows,4, facecolor='w', edgecolor='k',figsize=(16, 4*rows))\n",
        "  fig.subplots_adjust(hspace = 5, wspace=1)\n",
        "  axs = axs.ravel()\n",
        "  fig.suptitle('noise:'+str(noise))\n",
        "  for i in range(dim):\n",
        "      x[:, i] =myseq\n",
        "      realFunc=np.apply_along_axis(F10,axis=0,arr=x.transpose(),dim=dim,xopt=xopt,noise=noise,LCN=LCN)\n",
        "      modelFunc=RBFpredict(rbfcoef,CENTERS,x)\n",
        "      #fig = plt.figure()\n",
        "      #ax = plt.axes()\n",
        "      axs[i].plot(myseq, realFunc,linewidth=8,label='real function')\n",
        "      axs[i].plot(myseq, modelFunc,linewidth=4,linestyle='--',label='surrogate')\n",
        "      axs[i].set_title('d='+str(i+1))\n",
        "      axs[i].legend()\n",
        "      \n",
        "  return  axs\n",
        "    \n",
        "    \n",
        "    \n",
        "    "
      ],
      "execution_count": 0,
      "outputs": []
    },
    {
      "cell_type": "markdown",
      "metadata": {
        "id": "ECTugUA55NK9",
        "colab_type": "text"
      },
      "source": [
        "#Analysing Functions\n",
        "\n",
        "\n",
        "1.   RMSE(): calculates the RMSE of the given model on testSize points \n",
        "2.   Analyse(): This function get the dimension and the LCN ($log_{10}(Condition ~Number)$) and it returns:\n",
        "\n",
        "\n",
        "      * Plots comparing the modeling quality of F10 with noise and F10 without noise\n",
        "      * RMSE of the models for F10 with and without the deterministic noise Tosz\n",
        "\n",
        "\n",
        "\n",
        "\n",
        "\n"
      ]
    },
    {
      "cell_type": "code",
      "metadata": {
        "id": "nJlIKH-_32oW",
        "colab_type": "code",
        "colab": {}
      },
      "source": [
        "def RMSEcalc(rbfcoef,CENTERS,noise,LCN,dim,xopt,testSize,seed=678):\n",
        "  np.random.seed(seed) \n",
        "  Xtest=np.random.random((testSize*dim,dim))*10-5\n",
        "  predictTest=RBFpredict(rbfcoef,CENTERS,Xtest)\n",
        "  Ftest=np.apply_along_axis(F10,axis=0,arr=Xtest.transpose(),dim=dim,xopt=xopt,noise=noise,LCN=LCN)\n",
        "  Ftest=Ftest.reshape((testSize*dim,1))\n",
        "  RMSE=np.sqrt(np.average(np.square(np.subtract(predictTest,Ftest))))\n",
        "  return RMSE\n",
        "\n",
        "def Analyse(dim, LCN, DOPLOT=True, Trace=False):\n",
        "  trainSize=3*dim+1\n",
        "  testSize=100\n",
        "\n",
        "  Xtrain=np.random.random((trainSize,dim))*10-1\n",
        "  xopt=np.zeros(shape=(dim,1))\n",
        "  \n",
        "  #with noise\n",
        "  noise=True\n",
        "  Ftrain=np.apply_along_axis(F10,axis=0,arr=Xtrain.transpose(),dim=dim,xopt=xopt,noise=noise,LCN=LCN)\n",
        "  Ftrain=Ftrain.reshape((trainSize,1))\n",
        "  rbfcoef, CENTERS=RBFtrain(Xtrain,Ftrain)\n",
        "  predictTrain=RBFpredict(rbfcoef,CENTERS,Xtrain)\n",
        "  noiseRMSE=RMSEcalc(rbfcoef,CENTERS,noise,LCN,dim,xopt,testSize)\n",
        "  if DOPLOT:\n",
        "     SlicePlot(xopt,LCN,noise,CENTERS,rbfcoef,xopt)\n",
        "  \n",
        "  \n",
        "  #without noise\n",
        "  noise=False\n",
        "  Ftrain=np.apply_along_axis(F10,axis=0,arr=Xtrain.transpose(),dim=dim,xopt=xopt,noise=noise,LCN=LCN)\n",
        "  Ftrain=Ftrain.reshape((trainSize,1))\n",
        "  rbfcoef, CENTERS=RBFtrain(Xtrain,Ftrain)\n",
        "  predictTrain=RBFpredict(rbfcoef,CENTERS,Xtrain)\n",
        "  RMSE=RMSEcalc(rbfcoef,CENTERS,noise,LCN,dim,xopt,testSize)\n",
        "  if DOPLOT:\n",
        "     SlicePlot(xopt,LCN,noise,CENTERS,rbfcoef,xopt)\n",
        "  #ratio=np.log(noiseRMSE)-np.log(RMSE)\n",
        "\n",
        "\n",
        "  if Trace:\n",
        "   print(\"RMSE for the F10 (d=\"+str(dim)+\",LCN=\"+str(LCN)+ \") with the deterministic noise (Tosz):\"+str(noiseRMSE))\n",
        "   print(\"RMSE for the F10 (d=\"+str(dim)+\",LCN=\"+str(LCN)+ \") without the deterministic noise (Tosz):\"+str(RMSE))\n",
        "   print(\"noiseRMSE-RMSE=\"+str(noiseRMSE-RMSE))\n",
        "   print(\"rmseRatio:noiseRMSE/RMSE=\"+str(noiseRMSE/RMSE))\n",
        "  return RMSE, noiseRMSE\n",
        "\n",
        "#Example:\n",
        "#Analyse(4, 10,Trace=True)"
      ],
      "execution_count": 0,
      "outputs": []
    }
  ]
}